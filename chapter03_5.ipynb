{
 "cells": [
  {
   "cell_type": "code",
   "execution_count": 14,
   "metadata": {
    "collapsed": true
   },
   "outputs": [],
   "source": [
    "import numpy as np"
   ]
  },
  {
   "cell_type": "code",
   "execution_count": 15,
   "outputs": [],
   "source": [
    "data = [[0.697, 0.460, 1], [0.774, 0.376, 1], [0.634, 0.264, 1], [0.608, 0.318, 1], [0.556, 0.215, 1],\n",
    "            [0.403, 0.237, 1], [0.481, 0.149, 1], [0.437, 0.211, 1],\n",
    "            [0.666, 0.091, 0], [0.243, 0.267, 0], [0.245, 0.057, 0], [0.343, 0.099, 0], [0.639, 0.161, 0],\n",
    "            [0.657, 0.198, 0], [0.360, 0.370, 0], [0.593, 0.042, 0], [0.719, 0.103, 0]]\n",
    "data = np.array(data)\n",
    "X = data[:, 0 : 2]\n",
    "y = data[:, 2]\n",
    "Class0 = data[data[:, 2] == 0]\n",
    "Class1 = data[data[:, 2] == 1]\n",
    "Class0_feature = Class0[:, 0 : 2]\n",
    "Class1_feature = Class1[:, 0 : 2]\n",
    "micro0 = np.average(Class0[:, 0 : 2], axis=0) #μ0\n",
    "micro1 = np.average(Class1[:, 0 : 2], axis=0) #μ1\n",
    "#compute within-class scatter matrix\n",
    "S_w = np.cov(Class0_feature, rowvar = False)\n",
    "S_w += np.cov(Class1_feature, rowvar = False)"
   ],
   "metadata": {
    "collapsed": false
   }
  },
  {
   "cell_type": "code",
   "execution_count": 16,
   "outputs": [],
   "source": [
    "w = np.dot(np.linalg.inv(S_w), micro0 - micro1)\n",
    "y_pred = np.zeros_like(y)\n",
    "for i in range(len(X)):\n",
    "    if(np.abs(np.dot(w.T, X[i]) - np.dot(w.T,micro0)) < np.abs(np.dot(w.T, X[i]) - np.dot(w.T,micro1))):\n",
    "        y_pred[i] = 0\n",
    "    else:\n",
    "        y_pred[i] = 1\n"
   ],
   "metadata": {
    "collapsed": false
   }
  },
  {
   "cell_type": "code",
   "execution_count": 17,
   "outputs": [
    {
     "data": {
      "text/plain": "0.7058823529411765"
     },
     "execution_count": 17,
     "metadata": {},
     "output_type": "execute_result"
    }
   ],
   "source": [
    "def accuary():\n",
    "    acc = 0.0\n",
    "    for i in range(len(y_pred)):\n",
    "        if(y_pred[i] == y[i]):\n",
    "            acc += 1\n",
    "    return acc / len(y_pred)\n",
    "accuary()"
   ],
   "metadata": {
    "collapsed": false
   }
  },
  {
   "cell_type": "markdown",
   "source": [],
   "metadata": {
    "collapsed": false
   }
  }
 ],
 "metadata": {
  "kernelspec": {
   "display_name": "Python 3",
   "language": "python",
   "name": "python3"
  },
  "language_info": {
   "codemirror_mode": {
    "name": "ipython",
    "version": 2
   },
   "file_extension": ".py",
   "mimetype": "text/x-python",
   "name": "python",
   "nbconvert_exporter": "python",
   "pygments_lexer": "ipython2",
   "version": "2.7.6"
  }
 },
 "nbformat": 4,
 "nbformat_minor": 0
}
